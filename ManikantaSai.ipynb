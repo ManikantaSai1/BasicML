{
  "nbformat": 4,
  "nbformat_minor": 0,
  "metadata": {
    "colab": {
      "name": "Untitled0.ipynb",
      "provenance": [],
      "authorship_tag": "ABX9TyOkcumXxoXz5brh1DdjzYiA",
      "include_colab_link": true
    },
    "kernelspec": {
      "name": "python3",
      "display_name": "Python 3"
    },
    "language_info": {
      "name": "python"
    }
  },
  "cells": [
    {
      "cell_type": "markdown",
      "metadata": {
        "id": "view-in-github",
        "colab_type": "text"
      },
      "source": [
        "<a href=\"https://colab.research.google.com/github/ManikantaSai1/BasicML/blob/main/ManikantaSai.ipynb\" target=\"_parent\"><img src=\"https://colab.research.google.com/assets/colab-badge.svg\" alt=\"Open In Colab\"/></a>"
      ]
    },
    {
      "cell_type": "markdown",
      "metadata": {
        "id": "I1lpK0m0N41y"
      },
      "source": [
        "Python Program1"
      ]
    },
    {
      "cell_type": "code",
      "metadata": {
        "colab": {
          "base_uri": "https://localhost:8080/"
        },
        "id": "hgmQFK4YOBFk",
        "outputId": "cf445b46-51e9-41b0-f28e-1a64abc56802"
      },
      "source": [
        "print(\"Hi\")"
      ],
      "execution_count": 1,
      "outputs": [
        {
          "output_type": "stream",
          "text": [
            "Hi\n"
          ],
          "name": "stdout"
        }
      ]
    },
    {
      "cell_type": "markdown",
      "metadata": {
        "id": "0Kpc0tUpOO9d"
      },
      "source": [
        "Python Program2\n"
      ]
    },
    {
      "cell_type": "code",
      "metadata": {
        "colab": {
          "base_uri": "https://localhost:8080/"
        },
        "id": "-hW6Q3h_OTe0",
        "outputId": "bbc55c5c-aa2d-4846-dc89-3151a64d72b9"
      },
      "source": [
        "a=10\n",
        "b=20\n",
        "c=a+b\n",
        "print(\"sum of 2 numbers\",c)"
      ],
      "execution_count": 2,
      "outputs": [
        {
          "output_type": "stream",
          "text": [
            "sum of 2 numbers 30\n"
          ],
          "name": "stdout"
        }
      ]
    },
    {
      "cell_type": "markdown",
      "metadata": {
        "id": "67H0SwNLOoUP"
      },
      "source": [
        "Python Program3"
      ]
    },
    {
      "cell_type": "code",
      "metadata": {
        "colab": {
          "base_uri": "https://localhost:8080/"
        },
        "id": "bu7Zxpf1OrDh",
        "outputId": "4ff73e1f-df8c-45fc-acd1-daa56bd702b5"
      },
      "source": [
        "base=6\n",
        "height=7\n",
        "areaoftri=base*height\n",
        "print(\"Area of triangle\",areaoftri)"
      ],
      "execution_count": 3,
      "outputs": [
        {
          "output_type": "stream",
          "text": [
            "Area of triangle 42\n"
          ],
          "name": "stdout"
        }
      ]
    }
  ]
}
